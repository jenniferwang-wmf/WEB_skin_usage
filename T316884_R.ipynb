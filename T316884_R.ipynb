{
 "cells": [
  {
   "cell_type": "markdown",
   "id": "c3dd5446",
   "metadata": {},
   "source": [
    "# Determine number of logged-in editors using each skin on English Wikipedia\n",
    "\n",
    "[TICKET:T316884](https://phabricator.wikimedia.org/T316884)"
   ]
  },
  {
   "cell_type": "code",
   "execution_count": 1,
   "id": "5a417469",
   "metadata": {},
   "outputs": [],
   "source": [
    "shhh <- function(expr) suppressPackageStartupMessages(suppressWarnings(suppressMessages(expr)))\n",
    "shhh({\n",
    "library(tidyverse); \n",
    "library(lubridate); \n",
    "library(scales);\n",
    "library(magrittr); \n",
    "library(dplyr);\n",
    "})"
   ]
  },
  {
   "cell_type": "code",
   "execution_count": 31,
   "id": "6e16c673",
   "metadata": {},
   "outputs": [],
   "source": [
    "library(glue)"
   ]
  },
  {
   "cell_type": "code",
   "execution_count": 2,
   "id": "659c1abc",
   "metadata": {},
   "outputs": [
    {
     "data": {
      "text/html": [
       "<script>  \n",
       "code_show=true; \n",
       "function code_toggle() {\n",
       "  if (code_show){\n",
       "    $('div.input').hide();\n",
       "  } else {\n",
       "    $('div.input').show();\n",
       "  }\n",
       "  code_show = !code_show\n",
       "}  \n",
       "$( document ).ready(code_toggle);\n",
       "</script>\n",
       "  <form action=\"javascript:code_toggle()\">\n",
       "    <input type=\"submit\" value=\"Click here to toggle on/off the raw code.\">\n",
       " </form>"
      ]
     },
     "metadata": {},
     "output_type": "display_data"
    }
   ],
   "source": [
    "library(IRdisplay)\n",
    "\n",
    "display_html(\n",
    "'<script>  \n",
    "code_show=true; \n",
    "function code_toggle() {\n",
    "  if (code_show){\n",
    "    $(\\'div.input\\').hide();\n",
    "  } else {\n",
    "    $(\\'div.input\\').show();\n",
    "  }\n",
    "  code_show = !code_show\n",
    "}  \n",
    "$( document ).ready(code_toggle);\n",
    "</script>\n",
    "  <form action=\"javascript:code_toggle()\">\n",
    "    <input type=\"submit\" value=\"Click here to toggle on/off the raw code.\">\n",
    " </form>'\n",
    ")"
   ]
  },
  {
   "cell_type": "code",
   "execution_count": 5,
   "id": "8aa93836",
   "metadata": {},
   "outputs": [],
   "source": [
    "query_editor <- \"\n",
    " SELECT\n",
    "        event_user_text AS user_name,\n",
    "        event_user_id AS user_id,\n",
    "        count(revision_id) AS content_edits\n",
    "    FROM wmf.mediawiki_history \n",
    "    WHERE\n",
    "        wiki_db ='enwiki' AND snapshot='2022-08' AND\n",
    "        event_entity = 'revision' AND\n",
    "        event_type = 'create' AND\n",
    "        --logged-in users\n",
    "        event_user_is_anonymous = false AND\n",
    "        --exclude bots\n",
    "        size(event_user_is_bot_by) = 0 AND\n",
    "        not array_contains(event_user_groups, 'bot') AND\n",
    "        --content edits only\n",
    "        page_namespace_is_content = true AND\n",
    "        substr(event_timestamp,1,10) BETWEEN '2021-09-01' AND '2022-08-31' \n",
    "    GROUP BY event_user_text, event_user_id  \n",
    "\""
   ]
  },
  {
   "cell_type": "code",
   "execution_count": 6,
   "id": "7f12f552",
   "metadata": {},
   "outputs": [
    {
     "name": "stderr",
     "output_type": "stream",
     "text": [
      "Don't forget to authenticate with Kerberos using kinit\n",
      "\n"
     ]
    }
   ],
   "source": [
    "df_active_editor <- wmfdata::query_hive(query_editor)"
   ]
  },
  {
   "cell_type": "code",
   "execution_count": 36,
   "id": "3294bf8a",
   "metadata": {},
   "outputs": [],
   "source": [
    "users_list <- toString(df_active_editor$user_id)"
   ]
  },
  {
   "cell_type": "code",
   "execution_count": 29,
   "id": "d31f493f",
   "metadata": {},
   "outputs": [],
   "source": [
    "query_nondefault_skin <- \" \n",
    "SELECT up_user AS user_id,\n",
    "  up_value AS skin\n",
    "FROM user_properties\n",
    "WHERE up_user in (${users_list})\n",
    "AND up_property = 'skin'\n",
    "\""
   ]
  },
  {
   "cell_type": "code",
   "execution_count": 37,
   "id": "616650a2",
   "metadata": {},
   "outputs": [],
   "source": [
    "query <- glue(query_nondefault_skin, .open = \"${\", .close = \"}\")"
   ]
  },
  {
   "cell_type": "code",
   "execution_count": 39,
   "id": "c929512f",
   "metadata": {},
   "outputs": [
    {
     "name": "stderr",
     "output_type": "stream",
     "text": [
      "Warning message in .local(conn, statement, ...):\n",
      "“Unsigned INTEGER in col 0 imported as numeric”\n",
      "Fetched 44768 rows and 2 columns.\n",
      "\n"
     ]
    }
   ],
   "source": [
    "df_nondefault_skin <- wmfdata::mysql_read(query, 'enwiki')"
   ]
  },
  {
   "cell_type": "code",
   "execution_count": null,
   "id": "3f104c85",
   "metadata": {},
   "outputs": [],
   "source": [
    "df_active_editor "
   ]
  },
  {
   "cell_type": "code",
   "execution_count": 41,
   "id": "7de83246",
   "metadata": {},
   "outputs": [],
   "source": [
    "df <- \n",
    "merge(df_active_editor ,df_nondefault_skin ,  by.x=c(\"user_id\"),by.y=c(\"user_id\"),  all.x = TRUE)\n"
   ]
  },
  {
   "cell_type": "code",
   "execution_count": 47,
   "id": "5af037b3",
   "metadata": {},
   "outputs": [],
   "source": [
    "df_summary <- df %>%\n",
    "group_by(skin) %>%\n",
    "summarize( counts=n(),  .groups='drop') \n"
   ]
  },
  {
   "cell_type": "code",
   "execution_count": 48,
   "id": "e330e9d8",
   "metadata": {},
   "outputs": [
    {
     "data": {
      "text/html": [
       "<table class=\"dataframe\">\n",
       "<caption>A tibble: 17 × 2</caption>\n",
       "<thead>\n",
       "\t<tr><th scope=col>skin</th><th scope=col>counts</th></tr>\n",
       "\t<tr><th scope=col>&lt;chr&gt;</th><th scope=col>&lt;int&gt;</th></tr>\n",
       "</thead>\n",
       "<tbody>\n",
       "\t<tr><td>           </td><td> 15443</td></tr>\n",
       "\t<tr><td>0          </td><td>   223</td></tr>\n",
       "\t<tr><td>1          </td><td>     5</td></tr>\n",
       "\t<tr><td>2          </td><td>    13</td></tr>\n",
       "\t<tr><td>amethyst   </td><td>     1</td></tr>\n",
       "\t<tr><td>chick      </td><td>    47</td></tr>\n",
       "\t<tr><td>cologneblue</td><td>   485</td></tr>\n",
       "\t<tr><td>minerva    </td><td>  1203</td></tr>\n",
       "\t<tr><td>modern     </td><td>  1273</td></tr>\n",
       "\t<tr><td>monobook   </td><td> 13474</td></tr>\n",
       "\t<tr><td>myskin     </td><td>    20</td></tr>\n",
       "\t<tr><td>nostalgia  </td><td>    38</td></tr>\n",
       "\t<tr><td>simple     </td><td>    38</td></tr>\n",
       "\t<tr><td>timeless   </td><td>  2435</td></tr>\n",
       "\t<tr><td>vector     </td><td>   769</td></tr>\n",
       "\t<tr><td>vector-2022</td><td>  9301</td></tr>\n",
       "\t<tr><td>NA         </td><td>583333</td></tr>\n",
       "</tbody>\n",
       "</table>\n"
      ],
      "text/latex": [
       "A tibble: 17 × 2\n",
       "\\begin{tabular}{ll}\n",
       " skin & counts\\\\\n",
       " <chr> & <int>\\\\\n",
       "\\hline\n",
       "\t             &  15443\\\\\n",
       "\t 0           &    223\\\\\n",
       "\t 1           &      5\\\\\n",
       "\t 2           &     13\\\\\n",
       "\t amethyst    &      1\\\\\n",
       "\t chick       &     47\\\\\n",
       "\t cologneblue &    485\\\\\n",
       "\t minerva     &   1203\\\\\n",
       "\t modern      &   1273\\\\\n",
       "\t monobook    &  13474\\\\\n",
       "\t myskin      &     20\\\\\n",
       "\t nostalgia   &     38\\\\\n",
       "\t simple      &     38\\\\\n",
       "\t timeless    &   2435\\\\\n",
       "\t vector      &    769\\\\\n",
       "\t vector-2022 &   9301\\\\\n",
       "\t NA          & 583333\\\\\n",
       "\\end{tabular}\n"
      ],
      "text/markdown": [
       "\n",
       "A tibble: 17 × 2\n",
       "\n",
       "| skin &lt;chr&gt; | counts &lt;int&gt; |\n",
       "|---|---|\n",
       "| <!----> |  15443 |\n",
       "| 0           |    223 |\n",
       "| 1           |      5 |\n",
       "| 2           |     13 |\n",
       "| amethyst    |      1 |\n",
       "| chick       |     47 |\n",
       "| cologneblue |    485 |\n",
       "| minerva     |   1203 |\n",
       "| modern      |   1273 |\n",
       "| monobook    |  13474 |\n",
       "| myskin      |     20 |\n",
       "| nostalgia   |     38 |\n",
       "| simple      |     38 |\n",
       "| timeless    |   2435 |\n",
       "| vector      |    769 |\n",
       "| vector-2022 |   9301 |\n",
       "| NA          | 583333 |\n",
       "\n"
      ],
      "text/plain": [
       "   skin        counts\n",
       "1               15443\n",
       "2  0              223\n",
       "3  1                5\n",
       "4  2               13\n",
       "5  amethyst         1\n",
       "6  chick           47\n",
       "7  cologneblue    485\n",
       "8  minerva       1203\n",
       "9  modern        1273\n",
       "10 monobook     13474\n",
       "11 myskin          20\n",
       "12 nostalgia       38\n",
       "13 simple          38\n",
       "14 timeless      2435\n",
       "15 vector         769\n",
       "16 vector-2022   9301\n",
       "17 NA          583333"
      ]
     },
     "metadata": {},
     "output_type": "display_data"
    }
   ],
   "source": [
    "df_summary"
   ]
  },
  {
   "cell_type": "markdown",
   "id": "36f3b927",
   "metadata": {},
   "source": [
    "How to interpret skin value in `user_properties` table \n",
    "\n",
    "doc ref: https://phabricator.wikimedia.org/T180860,   \n",
    "\n",
    "code ref: https://github.com/wikimedia/mediawiki/blob/master/includes/skins/Skin.php"
   ]
  },
  {
   "cell_type": "code",
   "execution_count": 55,
   "id": "49f33b46",
   "metadata": {},
   "outputs": [],
   "source": [
    "#skin map\n",
    "df_summary <- df_summary %>%\n",
    "mutate(\n",
    "  skin_name = case_when (\n",
    "      #doc ref: https://phabricator.wikimedia.org/T180860, \n",
    "      #code ref: https://github.com/wikimedia/mediawiki/blob/master/includes/skins/Skin.php\n",
    "      skin=='vector-2022' ~ 'vector-2022',\n",
    "      skin=='vector' ~ 'vector',\n",
    "      skin=='NA' ~ 'vector',\n",
    "      skin=='' ~ 'vector',\n",
    "      skin=='0' ~ 'vector',\n",
    "      skin=='1' ~ 'vector',\n",
    "      skin=='simple' ~ 'vector',\n",
    "      skin=='nostalgia' ~ 'vector',\n",
    "      skin=='chick' ~ 'vector',\n",
    "      skin=='standard' ~ 'vector',\n",
    "      skin=='classic' ~ 'vector',\n",
    "      skin=='cologneblue' ~ 'cologneblue',\n",
    "      skin=='2' ~ 'cologneblue',\n",
    "      skin=='myskin' ~ 'monobook',\n",
    "      skin=='monobook' ~ 'monobook',\n",
    "      skin=='minerva' ~ 'minerva',\n",
    "      skin=='modern' ~ 'modern',\n",
    "      skin=='timeless' ~ 'timeless',\n",
    "      skin=='amethyst' ~ 'amethyst',\n",
    "      TRUE ~ 'vector'\n",
    "        )\n",
    "   )\n",
    "\n"
   ]
  },
  {
   "cell_type": "code",
   "execution_count": 56,
   "id": "957c6649",
   "metadata": {},
   "outputs": [
    {
     "data": {
      "text/html": [
       "<table class=\"dataframe\">\n",
       "<caption>A tibble: 17 × 3</caption>\n",
       "<thead>\n",
       "\t<tr><th scope=col>skin</th><th scope=col>counts</th><th scope=col>skin_name</th></tr>\n",
       "\t<tr><th scope=col>&lt;chr&gt;</th><th scope=col>&lt;int&gt;</th><th scope=col>&lt;chr&gt;</th></tr>\n",
       "</thead>\n",
       "<tbody>\n",
       "\t<tr><td>           </td><td> 15443</td><td>vector     </td></tr>\n",
       "\t<tr><td>0          </td><td>   223</td><td>vector     </td></tr>\n",
       "\t<tr><td>1          </td><td>     5</td><td>vector     </td></tr>\n",
       "\t<tr><td>2          </td><td>    13</td><td>cologneblue</td></tr>\n",
       "\t<tr><td>amethyst   </td><td>     1</td><td>amethyst   </td></tr>\n",
       "\t<tr><td>chick      </td><td>    47</td><td>vector     </td></tr>\n",
       "\t<tr><td>cologneblue</td><td>   485</td><td>cologneblue</td></tr>\n",
       "\t<tr><td>minerva    </td><td>  1203</td><td>minerva    </td></tr>\n",
       "\t<tr><td>modern     </td><td>  1273</td><td>modern     </td></tr>\n",
       "\t<tr><td>monobook   </td><td> 13474</td><td>monobook   </td></tr>\n",
       "\t<tr><td>myskin     </td><td>    20</td><td>monobook   </td></tr>\n",
       "\t<tr><td>nostalgia  </td><td>    38</td><td>vector     </td></tr>\n",
       "\t<tr><td>simple     </td><td>    38</td><td>vector     </td></tr>\n",
       "\t<tr><td>timeless   </td><td>  2435</td><td>timeless   </td></tr>\n",
       "\t<tr><td>vector     </td><td>   769</td><td>vector     </td></tr>\n",
       "\t<tr><td>vector-2022</td><td>  9301</td><td>vector-2022</td></tr>\n",
       "\t<tr><td>NA         </td><td>583333</td><td>vector     </td></tr>\n",
       "</tbody>\n",
       "</table>\n"
      ],
      "text/latex": [
       "A tibble: 17 × 3\n",
       "\\begin{tabular}{lll}\n",
       " skin & counts & skin\\_name\\\\\n",
       " <chr> & <int> & <chr>\\\\\n",
       "\\hline\n",
       "\t             &  15443 & vector     \\\\\n",
       "\t 0           &    223 & vector     \\\\\n",
       "\t 1           &      5 & vector     \\\\\n",
       "\t 2           &     13 & cologneblue\\\\\n",
       "\t amethyst    &      1 & amethyst   \\\\\n",
       "\t chick       &     47 & vector     \\\\\n",
       "\t cologneblue &    485 & cologneblue\\\\\n",
       "\t minerva     &   1203 & minerva    \\\\\n",
       "\t modern      &   1273 & modern     \\\\\n",
       "\t monobook    &  13474 & monobook   \\\\\n",
       "\t myskin      &     20 & monobook   \\\\\n",
       "\t nostalgia   &     38 & vector     \\\\\n",
       "\t simple      &     38 & vector     \\\\\n",
       "\t timeless    &   2435 & timeless   \\\\\n",
       "\t vector      &    769 & vector     \\\\\n",
       "\t vector-2022 &   9301 & vector-2022\\\\\n",
       "\t NA          & 583333 & vector     \\\\\n",
       "\\end{tabular}\n"
      ],
      "text/markdown": [
       "\n",
       "A tibble: 17 × 3\n",
       "\n",
       "| skin &lt;chr&gt; | counts &lt;int&gt; | skin_name &lt;chr&gt; |\n",
       "|---|---|---|\n",
       "| <!----> |  15443 | vector      |\n",
       "| 0           |    223 | vector      |\n",
       "| 1           |      5 | vector      |\n",
       "| 2           |     13 | cologneblue |\n",
       "| amethyst    |      1 | amethyst    |\n",
       "| chick       |     47 | vector      |\n",
       "| cologneblue |    485 | cologneblue |\n",
       "| minerva     |   1203 | minerva     |\n",
       "| modern      |   1273 | modern      |\n",
       "| monobook    |  13474 | monobook    |\n",
       "| myskin      |     20 | monobook    |\n",
       "| nostalgia   |     38 | vector      |\n",
       "| simple      |     38 | vector      |\n",
       "| timeless    |   2435 | timeless    |\n",
       "| vector      |    769 | vector      |\n",
       "| vector-2022 |   9301 | vector-2022 |\n",
       "| NA          | 583333 | vector      |\n",
       "\n"
      ],
      "text/plain": [
       "   skin        counts skin_name  \n",
       "1               15443 vector     \n",
       "2  0              223 vector     \n",
       "3  1                5 vector     \n",
       "4  2               13 cologneblue\n",
       "5  amethyst         1 amethyst   \n",
       "6  chick           47 vector     \n",
       "7  cologneblue    485 cologneblue\n",
       "8  minerva       1203 minerva    \n",
       "9  modern        1273 modern     \n",
       "10 monobook     13474 monobook   \n",
       "11 myskin          20 monobook   \n",
       "12 nostalgia       38 vector     \n",
       "13 simple          38 vector     \n",
       "14 timeless      2435 timeless   \n",
       "15 vector         769 vector     \n",
       "16 vector-2022   9301 vector-2022\n",
       "17 NA          583333 vector     "
      ]
     },
     "metadata": {},
     "output_type": "display_data"
    }
   ],
   "source": [
    "df_summary"
   ]
  },
  {
   "cell_type": "code",
   "execution_count": 58,
   "id": "6d3fdd29",
   "metadata": {},
   "outputs": [],
   "source": [
    "df_editors_per_skin <- df_summary %>%\n",
    " group_by(skin_name) %>%\n",
    " summarize(num_editors=sum(counts))"
   ]
  },
  {
   "cell_type": "code",
   "execution_count": 61,
   "id": "09fc2a5a",
   "metadata": {},
   "outputs": [],
   "source": [
    "total_editors <- sum(df_editors_per_skin$num_editors)"
   ]
  },
  {
   "cell_type": "code",
   "execution_count": 62,
   "id": "cd8eb9d2",
   "metadata": {},
   "outputs": [
    {
     "data": {
      "text/html": [
       "628101"
      ],
      "text/latex": [
       "628101"
      ],
      "text/markdown": [
       "628101"
      ],
      "text/plain": [
       "[1] 628101"
      ]
     },
     "metadata": {},
     "output_type": "display_data"
    }
   ],
   "source": [
    "total_editors"
   ]
  },
  {
   "cell_type": "code",
   "execution_count": 65,
   "id": "dcc0aa0a",
   "metadata": {},
   "outputs": [],
   "source": [
    "df_editors_per_skin <- df_editors_per_skin %>%\n",
    "  mutate(\n",
    "  editors_pct = round(num_editors*100/total_editors,2)\n",
    "  )"
   ]
  },
  {
   "cell_type": "code",
   "execution_count": 66,
   "id": "a34a0397",
   "metadata": {},
   "outputs": [
    {
     "data": {
      "text/html": [
       "<table class=\"dataframe\">\n",
       "<caption>A tibble: 8 × 3</caption>\n",
       "<thead>\n",
       "\t<tr><th scope=col>skin_name</th><th scope=col>num_editors</th><th scope=col>editors_pct</th></tr>\n",
       "\t<tr><th scope=col>&lt;chr&gt;</th><th scope=col>&lt;int&gt;</th><th scope=col>&lt;dbl&gt;</th></tr>\n",
       "</thead>\n",
       "<tbody>\n",
       "\t<tr><td>amethyst   </td><td>     1</td><td> 0.00</td></tr>\n",
       "\t<tr><td>cologneblue</td><td>   498</td><td> 0.08</td></tr>\n",
       "\t<tr><td>minerva    </td><td>  1203</td><td> 0.19</td></tr>\n",
       "\t<tr><td>modern     </td><td>  1273</td><td> 0.20</td></tr>\n",
       "\t<tr><td>monobook   </td><td> 13494</td><td> 2.15</td></tr>\n",
       "\t<tr><td>timeless   </td><td>  2435</td><td> 0.39</td></tr>\n",
       "\t<tr><td>vector     </td><td>599896</td><td>95.51</td></tr>\n",
       "\t<tr><td>vector-2022</td><td>  9301</td><td> 1.48</td></tr>\n",
       "</tbody>\n",
       "</table>\n"
      ],
      "text/latex": [
       "A tibble: 8 × 3\n",
       "\\begin{tabular}{lll}\n",
       " skin\\_name & num\\_editors & editors\\_pct\\\\\n",
       " <chr> & <int> & <dbl>\\\\\n",
       "\\hline\n",
       "\t amethyst    &      1 &  0.00\\\\\n",
       "\t cologneblue &    498 &  0.08\\\\\n",
       "\t minerva     &   1203 &  0.19\\\\\n",
       "\t modern      &   1273 &  0.20\\\\\n",
       "\t monobook    &  13494 &  2.15\\\\\n",
       "\t timeless    &   2435 &  0.39\\\\\n",
       "\t vector      & 599896 & 95.51\\\\\n",
       "\t vector-2022 &   9301 &  1.48\\\\\n",
       "\\end{tabular}\n"
      ],
      "text/markdown": [
       "\n",
       "A tibble: 8 × 3\n",
       "\n",
       "| skin_name &lt;chr&gt; | num_editors &lt;int&gt; | editors_pct &lt;dbl&gt; |\n",
       "|---|---|---|\n",
       "| amethyst    |      1 |  0.00 |\n",
       "| cologneblue |    498 |  0.08 |\n",
       "| minerva     |   1203 |  0.19 |\n",
       "| modern      |   1273 |  0.20 |\n",
       "| monobook    |  13494 |  2.15 |\n",
       "| timeless    |   2435 |  0.39 |\n",
       "| vector      | 599896 | 95.51 |\n",
       "| vector-2022 |   9301 |  1.48 |\n",
       "\n"
      ],
      "text/plain": [
       "  skin_name   num_editors editors_pct\n",
       "1 amethyst         1       0.00      \n",
       "2 cologneblue    498       0.08      \n",
       "3 minerva       1203       0.19      \n",
       "4 modern        1273       0.20      \n",
       "5 monobook     13494       2.15      \n",
       "6 timeless      2435       0.39      \n",
       "7 vector      599896      95.51      \n",
       "8 vector-2022   9301       1.48      "
      ]
     },
     "metadata": {},
     "output_type": "display_data"
    }
   ],
   "source": [
    "df_editors_per_skin"
   ]
  },
  {
   "cell_type": "code",
   "execution_count": null,
   "id": "78defd1f",
   "metadata": {},
   "outputs": [],
   "source": []
  }
 ],
 "metadata": {
  "kernelspec": {
   "display_name": "R",
   "language": "R",
   "name": "ir"
  },
  "language_info": {
   "codemirror_mode": "r",
   "file_extension": ".r",
   "mimetype": "text/x-r-source",
   "name": "R",
   "pygments_lexer": "r",
   "version": "3.5.2"
  }
 },
 "nbformat": 4,
 "nbformat_minor": 5
}
